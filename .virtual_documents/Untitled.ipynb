pip show pandas  # 确保版本 ≥ 2.1.0



python /path/to/batch_download.py




