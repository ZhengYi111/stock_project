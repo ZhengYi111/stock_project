{
 "cells": [
  {
   "cell_type": "code",
   "execution_count": 2,
   "id": "859ee4a1-a2c6-4adc-8213-8a8a7cd98e8a",
   "metadata": {},
   "outputs": [],
   "source": [
    "import yfinance as yf\n",
    "from concurrent.futures import ThreadPoolExecutor"
   ]
  },
  {
   "cell_type": "code",
   "execution_count": 4,
   "id": "9843cf77-4432-4851-b6b4-82e1d7547c39",
   "metadata": {},
   "outputs": [],
   "source": [
    "class StockDownloader:\n",
    "    def __init__(self, tickers, start_date='2020-01-01'):\n",
    "        self.tickers = tickers\n",
    "        self.start_date = start_date\n",
    "\n",
    "    def _download_single(self, ticker):\n",
    "        try:\n",
    "            df = yf.download(ticker, start=self.start_date, progress=False)\n",
    "            df['Ticker'] = ticker  # 添加股票代码列\n",
    "            return df\n",
    "        except Exception as e:\n",
    "            print(f\"Error downloading {ticker}: {str(e)}\")\n",
    "            return None\n",
    "\n",
    "    def parallel_download(self):\n",
    "        with ThreadPoolExecutor(max_workers=8) as executor:\n",
    "            results = executor.map(self._download_single, self.tickers)\n",
    "        return pd.concat([r for r in results if r is not None])\n"
   ]
  },
  {
   "cell_type": "code",
   "execution_count": null,
   "id": "825b2ba2-be90-4281-ab63-0c0968e7f48e",
   "metadata": {},
   "outputs": [],
   "source": []
  }
 ],
 "metadata": {
  "kernelspec": {
   "display_name": "Quant Env",
   "language": "python",
   "name": "quant"
  },
  "language_info": {
   "codemirror_mode": {
    "name": "ipython",
    "version": 3
   },
   "file_extension": ".py",
   "mimetype": "text/x-python",
   "name": "python",
   "nbconvert_exporter": "python",
   "pygments_lexer": "ipython3",
   "version": "3.10.16"
  }
 },
 "nbformat": 4,
 "nbformat_minor": 5
}
