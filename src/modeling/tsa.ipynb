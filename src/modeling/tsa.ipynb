{
 "cells": [
  {
   "cell_type": "code",
   "execution_count": 1,
   "metadata": {},
   "outputs": [],
   "source": [
    "from statsmodels.tsa.seasonal import seasonal_decompose"
   ]
  },
  {
   "cell_type": "code",
   "execution_count": null,
   "metadata": {},
   "outputs": [],
   "source": [
    "\n",
    "from pyspark.sql import SparkSession\n",
    "\n",
    "# 创建 SparkSession\n",
    "spark = SparkSession.builder \\\n",
    "    .appName(\"MySQL to Hive\") \\\n",
    "    .enableHiveSupport() \\\n",
    "    .getOrCreate()\n",
    "\n",
    "# MySQL 连接配置\n",
    "mysql_url = \"jdbc:mysql://172.28.25.240:3306/weimeng_test?useSSL=false\"\n",
    "mysql_props = {\n",
    "    \"user\": \"root\",\n",
    "    \"password\": \"scg1234!\",\n",
    "    \"driver\": \"com.mysql.jdbc.Driver\"\n",
    "}\n",
    "\n",
    "\n",
    "query = \"\"\"\n",
    "(SELECT \n",
    "    area,\n",
    "    日期,\n",
    "    省份,\n",
    "    city_name,\n",
    "    总消耗\n",
    "FROM \n",
    "    share_promotion_consumption_daily_ful\n",
    "WHERE \n",
    "    bu_line IN ('CBU')\n",
    ") tmp\n",
    "\"\"\"\n",
    "\n",
    "# 读取 MySQL 表（全量同步）\n",
    "df = spark.read.jdbc(\n",
    "    url=mysql_url,\n",
    "    table=query,\n",
    "    properties=mysql_props\n",
    ")\n",
    "\n",
    "# 写入 Hive 表\n",
    "df.write.mode(\"overwrite\").saveAsTable(\"qdyg_tmp.ads_cost\")"
   ]
  },
  {
   "cell_type": "markdown",
   "metadata": {},
   "source": []
  },
  {
   "cell_type": "code",
   "execution_count": null,
   "metadata": {},
   "outputs": [],
   "source": []
  },
  {
   "cell_type": "code",
   "execution_count": null,
   "metadata": {},
   "outputs": [],
   "source": []
  },
  {
   "cell_type": "code",
   "execution_count": null,
   "metadata": {},
   "outputs": [],
   "source": [
    "result = seasonal_decompose(stock_prices, model='additive', period=30)\n",
    "result.plot()"
   ]
  }
 ],
 "metadata": {
  "kernelspec": {
   "display_name": "quant",
   "language": "python",
   "name": "python3"
  },
  "language_info": {
   "codemirror_mode": {
    "name": "ipython",
    "version": 3
   },
   "file_extension": ".py",
   "mimetype": "text/x-python",
   "name": "python",
   "nbconvert_exporter": "python",
   "pygments_lexer": "ipython3",
   "version": "3.10.16"
  }
 },
 "nbformat": 4,
 "nbformat_minor": 2
}
